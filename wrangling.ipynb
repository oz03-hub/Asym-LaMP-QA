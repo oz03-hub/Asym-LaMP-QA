{
 "cells": [
  {
   "cell_type": "code",
   "execution_count": 2,
   "id": "3394345e",
   "metadata": {},
   "outputs": [],
   "source": [
    "import pandas as pd\n",
    "from collections import Counter\n",
    "import os\n",
    "from pathlib import Path\n",
    "import numpy as np\n",
    "import json\n",
    "d_path = Path(\"data\")"
   ]
  },
  {
   "cell_type": "code",
   "execution_count": 9,
   "id": "eab2661a",
   "metadata": {},
   "outputs": [],
   "source": [
    "for f in os.listdir(d_path / \"processed\"):\n",
    "    f_path = d_path / \"processed\" / f\n",
    "    with open(f_path, \"r\") as f:\n",
    "        arr = json.load(f)\n",
    "    \n",
    "    with open(f_path, \"w\") as f:\n",
    "        json.dump(arr, f, indent=4)"
   ]
  },
  {
   "cell_type": "code",
   "execution_count": 3,
   "id": "9e2ff175",
   "metadata": {},
   "outputs": [],
   "source": [
    "with open(d_path / \"processed\" / \"ae_processed_test.json\", \"r\") as f:\n",
    "    arr = json.load(f)"
   ]
  },
  {
   "cell_type": "code",
   "execution_count": 7,
   "id": "55b54f22",
   "metadata": {},
   "outputs": [],
   "source": [
    "with open(d_path / \"example_input.json\", \"w\") as f:\n",
    "    json.dump(arr[:4], f, indent=4)"
   ]
  },
  {
   "cell_type": "code",
   "execution_count": 2,
   "id": "a8eb9b29",
   "metadata": {},
   "outputs": [],
   "source": [
    "trains = [f for f in os.listdir(\"data/\") if f.endswith(\"train.json\")]\n",
    "vals = [f for f in os.listdir(\"data/\") if f.endswith(\"validation.json\")]\n",
    "tests = [f for f in os.listdir(\"data/\") if f.endswith(\"test.json\")]"
   ]
  },
  {
   "cell_type": "code",
   "execution_count": 3,
   "id": "ae109ebe",
   "metadata": {},
   "outputs": [],
   "source": [
    "cats = []\n",
    "\n",
    "for fs in zip(trains, vals, tests):\n",
    "    d = pd.concat([pd.read_json(d_path / f) for f in fs])\n",
    "    cats.append(set(d[\"category\"]))\n",
    "\n",
    "sub_cats = {\n",
    "    \"ae\": cats[0],\n",
    "    \"lp\": cats[1],\n",
    "    \"sc\": cats[2]\n",
    "}"
   ]
  },
  {
   "cell_type": "code",
   "execution_count": 15,
   "id": "bc199249",
   "metadata": {},
   "outputs": [],
   "source": [
    "train_df = pd.concat([pd.read_json(d_path / f, dtype={\"id\": str}) for f in trains])\n",
    "val_df = pd.concat([pd.read_json(d_path / f, dtype={\"id\": str}) for f in vals])\n",
    "test_df = pd.concat([pd.read_json(d_path / f, dtype={\"id\": str}) for f in tests])"
   ]
  },
  {
   "cell_type": "code",
   "execution_count": 37,
   "id": "dd270812",
   "metadata": {},
   "outputs": [
    {
     "data": {
      "text/plain": [
       "{'ae': {'anime',\n",
       "  'boardgames',\n",
       "  'gaming',\n",
       "  'literature',\n",
       "  'movies',\n",
       "  'music',\n",
       "  'musicfans',\n",
       "  'rpg',\n",
       "  'scifi',\n",
       "  'sound'},\n",
       " 'lp': {'bicycles',\n",
       "  'cooking',\n",
       "  'diy',\n",
       "  'fitness',\n",
       "  'freelancing',\n",
       "  'gardening',\n",
       "  'health',\n",
       "  'lifehacks',\n",
       "  'martialarts',\n",
       "  'outdoors',\n",
       "  'parenting',\n",
       "  'pets',\n",
       "  'sports',\n",
       "  'sustainability',\n",
       "  'travel',\n",
       "  'woodworking',\n",
       "  'workplace',\n",
       "  'writers'},\n",
       " 'sc': {'academia',\n",
       "  'buddhism',\n",
       "  'christianity',\n",
       "  'english',\n",
       "  'expatriates',\n",
       "  'genealogy',\n",
       "  'hermeneutics',\n",
       "  'hinduism',\n",
       "  'history',\n",
       "  'interpersonal',\n",
       "  'islam',\n",
       "  'judaism',\n",
       "  'law',\n",
       "  'linguistics',\n",
       "  'money',\n",
       "  'philosophy',\n",
       "  'politics',\n",
       "  'skeptics',\n",
       "  'vegetarianism'}}"
      ]
     },
     "execution_count": 37,
     "metadata": {},
     "output_type": "execute_result"
    }
   ],
   "source": [
    "sub_cats"
   ]
  },
  {
   "cell_type": "code",
   "execution_count": 5,
   "id": "f12b4c7d",
   "metadata": {},
   "outputs": [
    {
     "data": {
      "text/plain": [
       "[{'category': 'movies',\n",
       "  'id': '0_0_0_0',\n",
       "  'text': \"What happened to the natives? In Aguirre: The Wrath of God, two natives approach the raft, and are taken aboard.  After the priest on the raft attempts to convert them by showing them the bible and saying that it is the word of God, one of the natives tries to listen to it, and complains he can't hear anything.  This makes the people on the raft upset, and they gather around, yelling at the natives, who crouch down, presumably in fright.Then, in the next scene, they are gone for good.  Were we supposed to infer that they were killed?  The movie didn't shy away from showing other deaths.  But it's not obvious that they could have gone anywhere.Did I miss something?\"},\n",
       " {'category': 'anime',\n",
       "  'id': '0_0_0_1',\n",
       "  'text': \"Do we know what happens to Spike at the end of Cowboy Bebop? At the end of the last episode of Cowboy Bebop, Spike collapses.  It's not clear, but it looks as though he may be dead.  Is there a way to know whether he is alive or dead (something in the background, comments from the director, a continuation in the story in the manga, etc.)\"},\n",
       " {'category': 'gaming',\n",
       "  'id': '0_0_0_2',\n",
       "  'text': 'Can Borderlands class mods raise a skill past 5 points? Basically, can I use a class mod to raise a skill past 5, or is it capped at 5?  For example, if I am playing with Lilith, and I have my Girl Power ability raised up to 4, through leveling, and then I get a class mod that adds +3, is my Girl Power now at 5 or 7?'},\n",
       " {'category': 'gaming',\n",
       "  'id': '0_0_0_3',\n",
       "  'text': 'How does the Warhorse compares with other horses in Red Dead Redemption? When I purchased my copy of Red Dead Redemption, it came with a code that allowed me to get a deed for a unique horse...the \"Warhorse\".  How does it compare with the other horses in the game, specifically the better ones such as the Hungarian Half-Bred, etc?'},\n",
       " {'category': 'movies',\n",
       "  'id': '0_0_0_4',\n",
       "  'text': \"Are there different endings to Cloverfield? In particular, I'm talking about the scene at the very end, where the camera is on the happy couple in the ferris wheel.  The first time I watched it, my friend pointed out the faint streak that hits the water as the camera pans across the ocean.  The second time I watched it on a different disc, and I was going to show the other people that streak...but no matter how I looked and slowed down the viewing, I couldn't find it.  Is there a known version difference, or...?\"},\n",
       " {'category': 'gaming',\n",
       "  'id': '0_0_0_5',\n",
       "  'text': \"Can I create a new house in Hearthfire? I went back to Skyrim after a long time off to check out Hearthfire.  I read that one can construct a new house, protect it from baddies, etc.However, the only thing I've been able to do is modify one of my old, existing houses to swap out an alchemy lab for a kid's bedroom, and adopt a kid.  Is that it?  I suspect I may have another quest or two to go, but I don't see it in my quest log (which is still somewhat full...)  What am I missing?\"},\n",
       " {'category': 'anime',\n",
       "  'id': '0_0_0_6',\n",
       "  'text': \"Do anime usually lose money? It seems as though a lot of anime go through a production cycle where they put out a series that seems fairly popular, but ends long before the manga's storyline does.  Obviously, a big reason for making anime is to get people to buy the original manga, but if the anime series itself were turning a profit it's tough to imagine (from my American viewpoint, anyway) that the producers would abandon it, when it could easily continue (given its proven popularity, voice actors lined up, storyline set, etc.)Is there an overarching reason?  Do many anime not turn a profit?\"},\n",
       " {'category': 'movies',\n",
       "  'id': '0_0_0_7',\n",
       "  'text': \"What was under the sink in A Tale of Two Sisters? In A Tale of Two Sisters, during a seizure, a woman happens to see something (someone?) under the sink, and she tells her husband about it.  We later see a hand come out from under the sink, but due to the nature of the movie (a very unreliable narrator), we can't easily know for sure if the hand was real.  However, we have no reason that I know of to distrust what the first woman saw.  Was there a tie in with the rest of the story somehow?  Or was this just a red herring?\"},\n",
       " {'category': 'gaming',\n",
       "  'id': '0_0_0_8',\n",
       "  'text': 'Has The 7th Guest entered the public domain? I know that Trilobyte, the creators of The 7th Guest, went out of business some time ago.  Has their work entered the public domain in some way?  If not, who owns the copyright for their works?'},\n",
       " {'category': 'movies',\n",
       "  'id': '0_0_0_9',\n",
       "  'text': \"Is the ending of Brazil a nod to An Occurence at Owl Creek Bridge? I was thinking of the ending of An Occurrence at Owl Creek Bridge, and was thinking of ways it could be modernized, and suddenly the ending of Brazil popped into my head. Now, I haven't seen Brazil in a long time, so all the details are very hazy, but it seemed that this could be a definite nod, from what I could remember.  Is there anything in the scene that would specifically indicate that the overall similarity is more than just coincidence? \"},\n",
       " {'category': 'movies',\n",
       "  'id': '0_0_0_10',\n",
       "  'text': \"Why aren't the characters floating two levels down? If level 0 is the reality, the characters in the van are at level 1. The van drops off the edge of the bridge and goes into freefall. At level 2, in the hotel, they experience the freefall as well. But then, at level 3, at the fortress, (and for that matter, in limbo) there is no freefall. Why is it so?\"},\n",
       " {'category': 'scifi',\n",
       "  'id': '0_0_0_11',\n",
       "  'text': 'TV episode about man who has the meanings of words change I\\'m trying to remember where I saw a Twilight Zone-like show about a man who hears increasing percentages of words swapped out for other words, until everything becomes incomprehensible to him.It started with his wife saying that they should name their soon-to-be-born baby \"Bumper\".  He is incredulous, and asks her what she\\'s thinking, while she\\'s insisting it\\'s a perfectly normal name.  He is then at work, and his co-workers ask if he wants to go out for \"dinosaur\" (instead of lunch).  He tries to correct them, and they don\\'t understand what he\\'s saying.  At the end, he\\'s trying to relearn language by looking at a children\\'s book, where the pages and pictures (to our eyes and his) don\\'t match up at all.Saw this a long time ago, and can\\'t remember where...new Twilight Zone?  Tales From the Crypt?  Tales from the Darkside?  Somewhere else?'},\n",
       " {'category': 'movies',\n",
       "  'id': '0_0_0_12',\n",
       "  'text': 'What legends or stories is Hero (2002) based on? I heard from someone Chinese that she was surprised that anyone in the US was interested in Hero (the 2002 film) at all, since it relied so heavily on Chinese stories...stories that Chinese people would know well, but Americans (and presumably people of many other nationalities) would not.Is this true?  If so, what is the story (or stories) that the movie is based on?'},\n",
       " {'category': 'gaming',\n",
       "  'id': '0_0_0_13',\n",
       "  'text': 'Can I change my character\\'s race/name after the start? I was asked what my race was, and I chose...but then I managed to exit without setting a name, gender...anything else.  So now I\\'m a dude called \"Prisoner\".  I\\'d hate to play the whole game with such a lame name.  Am I going to be given an opportunity, like in Oblivion, to change these things again at some point, or do I need to start over, or...?'},\n",
       " {'category': 'rpg',\n",
       "  'id': '0_0_0_14',\n",
       "  'text': 'Are there any starting D&D 4e adventures being published? I\\'m trying to prepare for a low-prep-time starting game for D&D 4e.  The obvious solution would be to buy a prepackaged adventure for 4e for 1st level characters.  However, from what I can see, only one (H1, \"Keep on the Shadowfell\") was produced to prepare characters for the sequence (H1-H2-H3-P1-etc) and it\\'s out of print.  That seems a bit weird to me, so I\\'m wondering if I\\'m missing something.  Is there a replacement starting adventure for this that would prepare characters correctly for the next adventure, H2?  Should I go with HS1...but then how would I get from there to H2 (There seems to be a large level gap)?  Is there another prepackaged option out there, possibly from another company?'},\n",
       " {'category': 'movies',\n",
       "  'id': '0_0_0_15',\n",
       "  'text': 'Was the Wheel of Pain actual or allegorical? My contention (once I got past my teenage years) was that the Wheel of Pain, in the original Conan the Barbarian movie, was supposed to be alegorical...a symbol of Conan\\'s difficult upbringing as a slave.  Most people, however, seem to view it as literal...that he had to push this wheel around for ~10 years...presumably as a grain mill.Is there some kind of source, either in movie or outside of the movie, that could explain this more definitively?  Answers claiming \"it\\'s totally such-and-such\" without supporting evidence are okay (though more than one answer of the same kind should be avoided in lieu of voting up a pre-existing one) and no answer without some kind of support will be marked as accepted. '},\n",
       " {'category': 'rpg',\n",
       "  'id': '0_0_0_16',\n",
       "  'text': \"What are the primary differences between the 3rd, 4th, and 5th edition of Ars Magica? What are the primary differences between the 3rd, 4th, and 5th edition of Ars Magica?I'm not looking for an exhaustive list of all the small details, but I'm guessing there are a few big changes between 3rd and 4th edition, and from 4th to 5th edition.  Can someone give a short list of the biggest changes?\"},\n",
       " {'category': 'anime',\n",
       "  'id': '0_0_0_17',\n",
       "  'text': 'Does the \"bloody nose\" trope necessarily imply a sexual situation? If you\\'ve seen much anime, you\\'re familiar with the male character getting a bloody nose when he gets sexually excited. For example:Master Roshi (Dragon Ball) and Umino Iruka (Naruto)However, when I mentioned this to a Japanese person (someone who was not a big anime viewer), she was confused, and adamant that a bloody nose would normally just mean that the person was excited in general, and it would not necessarily have anything to do with sexual excitement.This could (and seems likely to be) true for Japanese day to day real life, but very different in anime, where the connection to libido seems very clear.  Is there someone that can explain this difference? Is the \"bloody nose\" in anime just used to signify excitement, and it just happens to often (always) be sexual excitement because of the plot? Or is it supposed to be just understood how a bloody nose is interpreted in anime is different from normal life?'},\n",
       " {'category': 'scifi',\n",
       "  'id': '0_0_0_18',\n",
       "  'text': \"How did Trent walk through the wall in The Long Run? In The Long Run, at the end of a chase sequence, the main character, Trent, apparently evades his pursuers by walking through a wall and escaping.  I knew someone who insisted that he figured out how Trent did it by reading the book carefully, but I've read it twice and I absolutely didn't see any real clues.  Is there something I'm missing?\"},\n",
       " {'category': 'scifi',\n",
       "  'id': '0_0_0_19',\n",
       "  'text': 'SF story where man must answer questions to get to untold treasure There was a great SF story I read some time ago (probably 25+ years ago) where there was a well known treasure trove, guarded by a killer robot that would ask all comers a series of difficult questions from all areas (math, physics, literature, history, etc.)  But everyone eventually failed and died... until the last person managed to make it past the robot:  By just answering gibberish to the robot.  Unfortunately, after collecting a ton of treasure, the robot casually asked him why he wanted it, he answered in a sensible way (something like \"because it\\'s valuable\"), and the robot killed him, because he failed the final test.Any ideas who wrote this?  What it was titled?'},\n",
       " {'category': 'scifi',\n",
       "  'id': '0_0_0_20',\n",
       "  'text': 'Where can I watch the movie \"Reversion\"? There\\'s a movie I found out a bit about called Reversion, about people who live in the past, present, and future simultaneously.  It sounded pretty neat, but I don\\'t see it as available (or even existing) on Amazon, and I don\\'t recall seeing it in the theaters.  Is there a way to watch this movie?'},\n",
       " {'category': 'gaming',\n",
       "  'id': '0_0_0_21',\n",
       "  'text': 'How does dueling work in Red Dead Redemption? I missed the instructions during my first duel, but I didn\\'t really worry about it since I just shot a lot at the guy\\'s head, and he died.  Many duels went the same way...I could shoot the opponent easily.  But during tougher duels, that doesn\\'t work.  It seems like you have to have your meter on the right end up higher than your opponents meter...but it\\'s not clear to me exactly how the meter works.  And the one bit of advice I remember the game giving me, to \"not draw too quickly, because my shots would be inaccurate\" or something, doesn\\'t seem to make any sense, since I can manually control where the shots go.What is the secret to a successful duel?'},\n",
       " {'category': 'scifi',\n",
       "  'id': '0_0_0_22',\n",
       "  'text': 'Short story about a witch who grows huge by absorbing people Okay, I\\'d like to provide a wealth of details, but my memory is hazy...but any help would be appreciated.I\\'m looking for a short story in the F/SF genre.  A man comes home to find his house destroyed and his family killed by a \"witch\".  He follows the tracks/path left by the huge creature.  He meets another humanoid creature during his travels, which he befriends.He eventually finds the witch, which has grown huge by absorbing his whole town.  He manages to draw most of the people back out of the witch, reducing it in size, and it becomes a young girl, who became the witch after being teased/tormented because she was \"slow\".The whole story had a rather melancholy and surreal feel to it, and I\\'d very much like to rediscover it.Any help?'},\n",
       " {'category': 'gaming',\n",
       "  'id': '0_0_0_23',\n",
       "  'text': \"Will the airport's X-ray scanner damage my Xbox 360? I'm considering bringing my Xbox 360 on a trip I'm taking, but I'm worried that the airport security scanner will damage the hard drive inside. Is this a valid concern?  \"},\n",
       " {'category': 'rpg',\n",
       "  'id': '0_0_0_24',\n",
       "  'text': 'How much should characters know about encountered creatures in 4e? The shift from 3.5e to 4e in D&D has meant a big shift towards emphasizing tactics during combat.  While I was apprehensive about this at first, it turns out it\\'s quite entertaining, and a good match for my group.  However, it\\'s not clear to me how much players should know about the creature\\'s they\\'re facing.  For instance, if they essentially know nothing, beyond the basic visual description, they rapidly learn meta-gaming techniques that seem to break versimilitude.  Obviously, it\\'s a good tactical technique to wipe out a group of minions very quickly, since they\\'re easy to kill, but can deal significant damage if left alive.  How much should the players know?  It would be strange for them to know everything, right off the bat...but it\\'s equally odd for them to wade into a battle, striking out semi-randomly, then suddenly everyone focuses on a single type of creature, because they\\'ve realized it\\'s a \"minion\".How is this normally handled?'},\n",
       " {'category': 'gaming',\n",
       "  'id': '0_0_0_25',\n",
       "  'text': \"What's the quest for Giant Toes? I've got a bunch of Giant Toes that I can't get rid of...it insists they're quest items.  But I don't think I have such a quest.  Can I start it somewhere so I can get rid of them?\"},\n",
       " {'category': 'gaming',\n",
       "  'id': '0_0_0_26',\n",
       "  'text': 'What is \"dual-boxing\"? I\\'ve seen it refered to in a couple of (closed) questions like this one.One comment seemed to indicate it\\'s a World of Warcraft term for a second character; is that correct?  What\\'s the meaning of the term?'},\n",
       " {'category': 'gaming',\n",
       "  'id': '0_0_0_27',\n",
       "  'text': 'Killing animals in Dishonored: will that ruin achievements? Can I kill animals, such as the dogs, and still get the achievements?  I\\'m looking at one achievement that says I can kill \"no one\".  I\\'m not sure if that includes the animals or not.'},\n",
       " {'category': 'gaming',\n",
       "  'id': '0_0_0_28',\n",
       "  'text': 'Will a normal electric guitar work with Rock Band 3? I\\'ve seen a couple of articles that talk about the guitar controllers for Rock Band 3.  Option 1 (the Mustang): A plastic controller in the style of the current controllers, but with buttons for every string and fret (egad!)Option 2 (the Squire): A real electric guitar that has been designed specifically to work with the game...so it has some modifications that make it slightly different than a normal electric guitar.  (a \"mute\" pad, to muffle the strings during gameplay, an xbox gamepad, and maybe some other things.  It sounds like this guitar is a Midi guitar.An earlier article I read seemed to indicate that a normal electric guitar would also work, so long as a $40 \"modification kit\" was purchased.  But I haven\\'t seen mention of this in a while.My question is will a \"normal\" electric guitar work with Rock Band 3?  If this mysterious \"modification kit\" is purchased?  How about a Midi electric?'},\n",
       " {'category': 'scifi',\n",
       "  'id': '0_0_0_29',\n",
       "  'text': \"Movie/show with people with life countdowns on their foreheads My wife was telling me about a movie or tv shows she saw a long time ago...but can't remember what it was.A group of people have numbers on their foreheads, which is atypical.  They don't know what the numbers are for, but eventually realize that they are the number of days they have left to live.  When the countdown reaches 0, something will come for them.I know this isn't a lot to go on, but it sounded so intriging that I'm very curious.  Any ideas?\"},\n",
       " {'category': 'gaming',\n",
       "  'id': '0_0_0_30',\n",
       "  'text': \"Dead Eye mode doesn't use ammo in Red Dead Redemption? I was trying to pass the 10th level of the Sharpshooter challenge, which is to disarm 6 opponents without changing weapons or reloading.  This could be a bit tricky, except I noticed when I was using the deadeye mode and taking a shot, it didn't lower my ammo count.  I could (and did) take about 10 shots from my 6 shot revolver, one deadeye run at a time, and I still had all my bullets.  Made the challenge pretty easy, once I realized it.  I assume this is a bug...has anyone else encountered this? \"},\n",
       " {'category': 'scifi',\n",
       "  'id': '0_0_0_31',\n",
       "  'text': 'What movies are associated with \"2046\"? There is a Chinese movie called \"2046\" that takes place (partially) in 2046.  But I think that there are also one or two movies that are associated with this one.  Not sure if they\\'re in the future or not.  Does anyone know what they are?'},\n",
       " {'category': 'rpg',\n",
       "  'id': '0_0_0_32',\n",
       "  'text': 'Is there any system for translating AD&D type encounters to 4e? I would very much like to run a party of people through the TPK machine that is the original Tomb of Horrors.  However, while I\\'d like to keep the balance and toughness that made this first entry so memorable, I\\'d be running them through in 4e.The first challenge is a more mechanical one...trying to make traps and monsters (what few there are) of approximately the same difficulty.  The question: Is there any system for upgrading monsters and/or traps from AD&D to 4e that people have tried?The second challenge is a bit different...it\\'s more of a gestalt type thing.  Characters in 4e can more easily rest and recuperate, and HP loss is a minor temporary inconvienence rather than a major obstacle like in AD&D.  In short, I\\'m wondering if ToH wouldn\\'t translate well because the characters won\\'t be \"worn down\" enough by the various individual encounters.  The question: Is this an exercise in futility, or can I perform this kind of transition?(Of course, there will have to be a lot of experimentation and such in any case, and the details are well beyond this question, but it would be interesting to know if there are obvious answers to these things.)EDIT: I do own the new ToH hardcover for 4e...but that\\'s not what I\\'m looking for.  The new book is a sort of sequel to the original adventure (or, more precisely, a sequel to \"Return to the Tomb of Horrors\", which was the first sequel).  '},\n",
       " {'category': 'scifi',\n",
       "  'id': '0_0_0_33',\n",
       "  'text': \"Movie with crystal spike travelling up an arm? I have this childhood memory of a fairly cheesy SF movie where a person comes into contact with some kind of crystal, and it goes into his arm near the wrist.  You can then see the triangular shape travelling up his arm under the skin, as he watches in horror.I think this happens twice in the movie.I know this isn't a lot to go on, but it was a striking scene (to me, anyway), so I thought it might be identifiable.\"},\n",
       " {'category': 'movies',\n",
       "  'id': '0_0_0_34',\n",
       "  'text': \"What happens to Alex at the end of Shallow Grave? At the end of the movie it was not obvious to me what Alex's ultimate fate was.  In particular, I wasn't clear whether he lived or died from his injury.  It seemed like he might live, as he was still moving a bit, but everyone around him seemed completely unconcerned with getting him medical attention.  I even considered the possibility that he was dead at the time of the ending, and we were just seeing him move, but the people in movie were just seeing him as dead.Is it made clear at some point?  Is it purposely ambiguous?  Or was I just missing the obvious?\"},\n",
       " {'category': 'english',\n",
       "  'id': '0_0_0_35',\n",
       "  'text': 'What does \"bedroom eyes\" mean, from a physical standpoint, if anything? The phrase \"bedroom eyes\" came up in another question, and the person who used it remarked that to him/her it meant that, from a physical standpoint \"that means they\\'ve got dilated pupils\".This didn\\'t mesh with what I remembered hearing, which was that the eyes were semi-lidded.Dictionary.com mentions nothing about either.  UrbanDictionary, for whatever that\\'s worth, mentions semi-lidded eyes a couple times, but not as the highest rated answers.Is there any specific physical implication to having \"bedroom eyes\"?'},\n",
       " {'category': 'gaming',\n",
       "  'id': '0_0_0_36',\n",
       "  'text': \"Does Gladius work with the XBox360? Gladius is one of those great turn-based strategy games that I like to go back to once in a while.  But now that my old PS2 is packed away, it's not so easy.  If I pick up a copy for the original XBox, will it work in my 360? \"},\n",
       " {'category': 'english',\n",
       "  'id': '0_0_0_37',\n",
       "  'text': 'What is the origin of \"moral support\"? Why is the phrase \"moral support\" used, when it seems like it would more accurately be \"morale support\"?Is this just a misspelling that has become canon, or something else?'},\n",
       " {'category': 'scifi',\n",
       "  'id': '0_0_0_38',\n",
       "  'text': \"Does the ending of Tau Zero make sense? Warning: I'm trying to obfuscate much of this question, and hiding the key elements in spoiler blocks..but some spoilers will probably be inevitable.At the ending of the book Tau Zero the ending seems odd:   the spaceship, travelling at close to the speed of light, is able to have eons pass by in instants, which allows it to travel far, far into our future.  It eventually ends up circling around the eventually collapsing universe, and is able to watch as the universe is reborn in a new big bang.Now, I'm not asking whether the big-crunch theory is out of date, whether the universe is slated to eventually collapse, or about the relative (no pun intended) likelyhood of the creation of a spaceship that can travel near the speed of light.  He makes these assumptions/assertions, backs them up as he sees fit, and moves on.But I was under the understanding that the matter that takes up space in our universe is inately connected with the space of the universe...that during a big-crunch type event, it would not just be the matter within the universe collapsing, but space itself collapsing to a singularity...which would leave the ending not making any sense.  Yet, with the amount of effort he puts into explaining the effects of time dialation and the irrationality of the notion of simultaneity at near-light speeds, it seems odd that something like this would be left hanging.  Is there a solution?\"},\n",
       " {'category': 'sports',\n",
       "  'id': '0_0_0_39',\n",
       "  'text': \"Why is no second football game televised (possibly just in NY)? Something confuses the heck out of me in regards to TV broadcasting of (American) Football.I used to live in Seattle.  On Sunday, there were the early games, and the later games.  One was selected to be televised at 1:00 (EST), and one at 4:00 (EST), regardless of which time slot the local team (Seahawks) were playing in.  Easy enough.I now live in New York.  There are still early and late games, of course, at the same times.  There are two local teams (Giants/Jets).  But often if neither of those teams is playing in the later time slot, no game will be shown.  Why?Now, the first impression I had was that this was just a remarkably poor programming decision made by TV execs...but I once heard the announcers at the end of the early game say something like:  A: And coming up next, you'll be seeing one of these three games...     B: Unless you're in New York, of course.     A: Of course.Wha?It sounded slightly sarcastic, like they understood that the policy was strange, but expected.  Is there a straightforward explanation for what's going on?\"},\n",
       " {'category': 'scifi',\n",
       "  'id': '0_0_0_40',\n",
       "  'text': \"Story about demons in the ethernet This was a story about a skilled thief (and I think he was also a dog...but a humanoid dog) out to steal some quality jewelery from some castle residents.  He decided to trick them with a modem; although he insisted to them that it was a working modem, he knew it was broken, and it could be safely plugged into the castle's ancient ethernet without fear of releasing a demon.    But a castle assistant, some kind of savant, realized the modem was broken, and suddenly fixed it after it was plugged in, ruining the plan and releasing a real demon.  The jewels the thief turned out to steal were fake anyway.Google hasn't helped me find this one so far...I'm hoping someone else might recognize it.\"},\n",
       " {'category': 'gaming',\n",
       "  'id': '0_0_0_41',\n",
       "  'text': 'What is \"ganking\"? In reading about \"griefing\" and \"smurfing\", the term \"ganking\" came up...is there a good definition for it?'}]"
      ]
     },
     "execution_count": 5,
     "metadata": {},
     "output_type": "execute_result"
    }
   ],
   "source": [
    "train_df.loc[0][\"profile\"]"
   ]
  },
  {
   "cell_type": "code",
   "execution_count": 17,
   "id": "d48f4303",
   "metadata": {},
   "outputs": [
    {
     "data": {
      "text/plain": [
       "(24333, 2503, 2830)"
      ]
     },
     "execution_count": 17,
     "metadata": {},
     "output_type": "execute_result"
    }
   ],
   "source": [
    "def add_subcats(row, sub_cats):\n",
    "    category_array = []\n",
    "    profile = row[\"profile\"]\n",
    "    for post in profile:\n",
    "        subcat = post[\"category\"]\n",
    "\n",
    "        if subcat in sub_cats[\"ae\"]:\n",
    "            category_array.append(\"ae\")\n",
    "        if subcat in sub_cats[\"lp\"]:\n",
    "            category_array.append(\"lp\")\n",
    "        if subcat in sub_cats[\"sc\"]:\n",
    "            category_array.append(\"sc\")\n",
    "    return category_array\n",
    "\n",
    "train_df[\"category_array\"] = train_df.apply(lambda x: add_subcats(x, sub_cats), axis=1)\n",
    "val_df[\"category_array\"] = val_df.apply(lambda x: add_subcats(x, sub_cats), axis=1)\n",
    "test_df[\"category_array\"] = test_df.apply(lambda x: add_subcats(x, sub_cats), axis=1)\n",
    "\n",
    "len(train_df), len(val_df), len(test_df)"
   ]
  },
  {
   "cell_type": "code",
   "execution_count": 18,
   "id": "97dd3208",
   "metadata": {},
   "outputs": [
    {
     "data": {
      "text/plain": [
       "(11077, 1113, 1351)"
      ]
     },
     "execution_count": 18,
     "metadata": {},
     "output_type": "execute_result"
    }
   ],
   "source": [
    "def check_3_categories(row):\n",
    "    return set(row[\"category_array\"]) == {\"ae\", \"lp\", \"sc\"}\n",
    "\n",
    "train_df = train_df[train_df.apply(check_3_categories, axis=1)]\n",
    "val_df = val_df[val_df.apply(check_3_categories, axis=1)]\n",
    "test_df = test_df[test_df.apply(check_3_categories, axis=1)]\n",
    "\n",
    "len(train_df), len(val_df), len(test_df)"
   ]
  },
  {
   "cell_type": "code",
   "execution_count": 19,
   "id": "241f6ec2",
   "metadata": {},
   "outputs": [],
   "source": [
    "def entropy(category_array):\n",
    "    counts = np.array(list(Counter(category_array).values()))\n",
    "    probs = counts / counts.sum()\n",
    "    return -np.sum(probs * np.log2(probs))\n",
    "\n",
    "train_df[\"entropy\"] = train_df[\"category_array\"].apply(entropy)\n",
    "val_df[\"entropy\"] = val_df[\"category_array\"].apply(entropy)\n",
    "test_df[\"entropy\"] = test_df[\"category_array\"].apply(entropy)"
   ]
  },
  {
   "cell_type": "code",
   "execution_count": 22,
   "id": "14918ec2",
   "metadata": {},
   "outputs": [],
   "source": [
    "train_df.drop(columns=[\"category_array\"], inplace=True)\n",
    "val_df.drop(columns=[\"category_array\"], inplace=True)\n",
    "test_df.drop(columns=[\"category_array\"], inplace=True)"
   ]
  },
  {
   "cell_type": "code",
   "execution_count": 24,
   "id": "3480134c",
   "metadata": {},
   "outputs": [],
   "source": [
    "ae_train = train_df[train_df[\"category\"].isin(sub_cats[\"ae\"])]\n",
    "lp_train = train_df[train_df[\"category\"].isin(sub_cats[\"lp\"])]\n",
    "sc_train = train_df[train_df[\"category\"].isin(sub_cats[\"sc\"])]\n",
    "\n",
    "ae_val = val_df[val_df[\"category\"].isin(sub_cats[\"ae\"])]\n",
    "lp_val = val_df[val_df[\"category\"].isin(sub_cats[\"lp\"])]\n",
    "sc_val = val_df[val_df[\"category\"].isin(sub_cats[\"sc\"])]\n",
    "\n",
    "ae_test = test_df[test_df[\"category\"].isin(sub_cats[\"ae\"])]\n",
    "lp_test = test_df[test_df[\"category\"].isin(sub_cats[\"lp\"])]\n",
    "sc_test = test_df[test_df[\"category\"].isin(sub_cats[\"sc\"])]"
   ]
  },
  {
   "cell_type": "code",
   "execution_count": 33,
   "id": "0f6a887d",
   "metadata": {},
   "outputs": [],
   "source": [
    "ae_train.to_json(d_path / \"processed\" / \"ae_processed_train.json\", orient=\"records\", indent=2)\n",
    "ae_val.to_json(d_path / \"processed\" / \"ae_processed_validation.json\", orient=\"records\", indent=2)\n",
    "ae_test.to_json(d_path / \"processed\" / \"ae_processed_test.json\", orient=\"records\", indent=2)\n",
    "\n",
    "lp_train.to_json(d_path / \"processed\" / \"lp_processed_train.json\", orient=\"records\", indent=2)\n",
    "lp_val.to_json(d_path / \"processed\" / \"lp_processed_validation.json\", orient=\"records\", indent=2)\n",
    "lp_test.to_json(d_path / \"processed\" / \"lp_processed_test.json\", orient=\"records\", indent=2)\n",
    "\n",
    "sc_train.to_json(d_path / \"processed\" / \"sc_processed_train.json\", orient=\"records\", indent=2)\n",
    "sc_val.to_json(d_path / \"processed\" / \"sc_processed_validation.json\", orient=\"records\", indent=2)\n",
    "sc_test.to_json(d_path / \"processed\" / \"sc_processed_test.json\", orient=\"records\", indent=2)"
   ]
  },
  {
   "cell_type": "code",
   "execution_count": 34,
   "id": "0289b3c5",
   "metadata": {},
   "outputs": [],
   "source": [
    "t = ae_test[:10]"
   ]
  },
  {
   "cell_type": "code",
   "execution_count": 35,
   "id": "5ed144f9",
   "metadata": {},
   "outputs": [
    {
     "data": {
      "text/html": [
       "<div>\n",
       "<style scoped>\n",
       "    .dataframe tbody tr th:only-of-type {\n",
       "        vertical-align: middle;\n",
       "    }\n",
       "\n",
       "    .dataframe tbody tr th {\n",
       "        vertical-align: top;\n",
       "    }\n",
       "\n",
       "    .dataframe thead th {\n",
       "        text-align: right;\n",
       "    }\n",
       "</style>\n",
       "<table border=\"1\" class=\"dataframe\">\n",
       "  <thead>\n",
       "    <tr style=\"text-align: right;\">\n",
       "      <th></th>\n",
       "      <th>id</th>\n",
       "      <th>question</th>\n",
       "      <th>profile</th>\n",
       "      <th>rubric_aspects</th>\n",
       "      <th>narrative</th>\n",
       "      <th>category</th>\n",
       "      <th>entropy</th>\n",
       "    </tr>\n",
       "  </thead>\n",
       "  <tbody>\n",
       "    <tr>\n",
       "      <th>0</th>\n",
       "      <td>0_2_0</td>\n",
       "      <td>Are the two music notes a reference?</td>\n",
       "      <td>[{'category': 'anime', 'id': '0_2_0_0', 'text'...</td>\n",
       "      <td>[{'aspect': 'Visual appearance of the music no...</td>\n",
       "      <td>In episode 2 of Idolish7, 11:08 the following ...</td>\n",
       "      <td>anime</td>\n",
       "      <td>0.725376</td>\n",
       "    </tr>\n",
       "    <tr>\n",
       "      <th>4</th>\n",
       "      <td>0_2_4</td>\n",
       "      <td>How come Neiru hasn't revived her sister yet?</td>\n",
       "      <td>[{'category': 'skeptics', 'id': '0_2_4_0', 'te...</td>\n",
       "      <td>[{'aspect': 'Neiru's head start with the Wonde...</td>\n",
       "      <td>In Wonder Egg Priority, when Neiru is first in...</td>\n",
       "      <td>anime</td>\n",
       "      <td>1.077291</td>\n",
       "    </tr>\n",
       "    <tr>\n",
       "      <th>9</th>\n",
       "      <td>0_2_9</td>\n",
       "      <td>Was Saitama sweating with worry when he saw Ga...</td>\n",
       "      <td>[{'category': 'anime', 'id': '0_2_9_0', 'text'...</td>\n",
       "      <td>[{'aspect': 'Interpretation of Saitama's facia...</td>\n",
       "      <td>In One Punch Man manga chapter #159, Saitama a...</td>\n",
       "      <td>anime</td>\n",
       "      <td>0.687355</td>\n",
       "    </tr>\n",
       "    <tr>\n",
       "      <th>11</th>\n",
       "      <td>0_2_11</td>\n",
       "      <td>In the 3rd game when Eva calls Hideyoshi as a ...</td>\n",
       "      <td>[{'category': 'law', 'id': '0_2_11_0', 'text':...</td>\n",
       "      <td>[{'aspect': 'Purpose of calling a 'witness' fr...</td>\n",
       "      <td>In the anime (episode 18, part of the 3rd arc ...</td>\n",
       "      <td>anime</td>\n",
       "      <td>1.279800</td>\n",
       "    </tr>\n",
       "    <tr>\n",
       "      <th>12</th>\n",
       "      <td>0_2_12</td>\n",
       "      <td>Why does Miyuki lose when Miyuki is hardly in ...</td>\n",
       "      <td>[{'category': 'academia', 'id': '0_2_12_0', 't...</td>\n",
       "      <td>[{'aspect': 'Miyuki's Loss Confirmation', 'evi...</td>\n",
       "      <td>S01E08 story of the last sub-episode - Miyuki ...</td>\n",
       "      <td>anime</td>\n",
       "      <td>1.279800</td>\n",
       "    </tr>\n",
       "  </tbody>\n",
       "</table>\n",
       "</div>"
      ],
      "text/plain": [
       "        id                                           question  \\\n",
       "0    0_2_0               Are the two music notes a reference?   \n",
       "4    0_2_4      How come Neiru hasn't revived her sister yet?   \n",
       "9    0_2_9  Was Saitama sweating with worry when he saw Ga...   \n",
       "11  0_2_11  In the 3rd game when Eva calls Hideyoshi as a ...   \n",
       "12  0_2_12  Why does Miyuki lose when Miyuki is hardly in ...   \n",
       "\n",
       "                                              profile  \\\n",
       "0   [{'category': 'anime', 'id': '0_2_0_0', 'text'...   \n",
       "4   [{'category': 'skeptics', 'id': '0_2_4_0', 'te...   \n",
       "9   [{'category': 'anime', 'id': '0_2_9_0', 'text'...   \n",
       "11  [{'category': 'law', 'id': '0_2_11_0', 'text':...   \n",
       "12  [{'category': 'academia', 'id': '0_2_12_0', 't...   \n",
       "\n",
       "                                       rubric_aspects  \\\n",
       "0   [{'aspect': 'Visual appearance of the music no...   \n",
       "4   [{'aspect': 'Neiru's head start with the Wonde...   \n",
       "9   [{'aspect': 'Interpretation of Saitama's facia...   \n",
       "11  [{'aspect': 'Purpose of calling a 'witness' fr...   \n",
       "12  [{'aspect': 'Miyuki's Loss Confirmation', 'evi...   \n",
       "\n",
       "                                            narrative category   entropy  \n",
       "0   In episode 2 of Idolish7, 11:08 the following ...    anime  0.725376  \n",
       "4   In Wonder Egg Priority, when Neiru is first in...    anime  1.077291  \n",
       "9   In One Punch Man manga chapter #159, Saitama a...    anime  0.687355  \n",
       "11  In the anime (episode 18, part of the 3rd arc ...    anime  1.279800  \n",
       "12  S01E08 story of the last sub-episode - Miyuki ...    anime  1.279800  "
      ]
     },
     "execution_count": 35,
     "metadata": {},
     "output_type": "execute_result"
    }
   ],
   "source": [
    "t.head()"
   ]
  },
  {
   "cell_type": "code",
   "execution_count": 36,
   "id": "094f2c22",
   "metadata": {},
   "outputs": [],
   "source": [
    "t.to_json(d_path / \"processed\" / \"test.json\", orient=\"records\", indent=2)"
   ]
  },
  {
   "cell_type": "code",
   "execution_count": null,
   "id": "14f60b08",
   "metadata": {},
   "outputs": [],
   "source": []
  }
 ],
 "metadata": {
  "kernelspec": {
   "display_name": "lamp",
   "language": "python",
   "name": "python3"
  },
  "language_info": {
   "codemirror_mode": {
    "name": "ipython",
    "version": 3
   },
   "file_extension": ".py",
   "mimetype": "text/x-python",
   "name": "python",
   "nbconvert_exporter": "python",
   "pygments_lexer": "ipython3",
   "version": "3.11.13"
  }
 },
 "nbformat": 4,
 "nbformat_minor": 5
}
